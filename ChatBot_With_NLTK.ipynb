{
  "nbformat": 4,
  "nbformat_minor": 0,
  "metadata": {
    "colab": {
      "provenance": [],
      "include_colab_link": true
    },
    "kernelspec": {
      "name": "python3",
      "display_name": "Python 3"
    },
    "language_info": {
      "name": "python"
    }
  },
  "cells": [
    {
      "cell_type": "markdown",
      "metadata": {
        "id": "view-in-github",
        "colab_type": "text"
      },
      "source": [
        "<a href=\"https://colab.research.google.com/github/Raj9984/ChatBot-/blob/main/ChatBot_With_NLTK.ipynb\" target=\"_parent\"><img src=\"https://colab.research.google.com/assets/colab-badge.svg\" alt=\"Open In Colab\"/></a>"
      ]
    },
    {
      "cell_type": "code",
      "execution_count": 1,
      "metadata": {
        "id": "b3p89xClIdCL"
      },
      "outputs": [],
      "source": [
        "import numpy as np\n",
        "import nltk\n",
        "import string\n",
        "import random\n",
        "#some basic dependencies"
      ]
    },
    {
      "cell_type": "code",
      "source": [
        "f = open('/content/data.txt','r',errors = 'ignore') #the file at the given location is opened in read mode and an abject is returned corresponding to it\n",
        "raw_doc = f.read() # reading the doc"
      ],
      "metadata": {
        "id": "myuN1euRIw1Y"
      },
      "execution_count": 2,
      "outputs": []
    },
    {
      "cell_type": "code",
      "source": [
        "raw_doc = raw_doc.lower()\n",
        "nltk.download('punkt') # punkt is the tokenizer\n",
        "nltk.download('wordnet') # Using the wordnet dictionary\n",
        "nltk.download('omw-1.4') #omw -> Open Multilingual Wordnet\n",
        "sentence_tokens = nltk.sent_tokenize(raw_doc) #converts the doc into a list of sentences\n",
        "word_tokens = nltk.word_tokenize(raw_doc) #converts the doc into a list of words"
      ],
      "metadata": {
        "colab": {
          "base_uri": "https://localhost:8080/"
        },
        "id": "PRcx2reMNW4w",
        "outputId": "7bbdefbd-c7a5-4cb4-ab63-5e86e6e0a415"
      },
      "execution_count": 3,
      "outputs": [
        {
          "output_type": "stream",
          "name": "stderr",
          "text": [
            "[nltk_data] Downloading package punkt to /root/nltk_data...\n",
            "[nltk_data]   Unzipping tokenizers/punkt.zip.\n",
            "[nltk_data] Downloading package wordnet to /root/nltk_data...\n",
            "[nltk_data] Downloading package omw-1.4 to /root/nltk_data...\n"
          ]
        }
      ]
    },
    {
      "cell_type": "code",
      "source": [
        "print(len(sentence_tokens))"
      ],
      "metadata": {
        "colab": {
          "base_uri": "https://localhost:8080/"
        },
        "id": "IloFm8OUY_q6",
        "outputId": "5706d013-a42e-4ca4-e52e-2b6adce1ad5e"
      },
      "execution_count": 4,
      "outputs": [
        {
          "output_type": "stream",
          "name": "stdout",
          "text": [
            "383\n"
          ]
        }
      ]
    },
    {
      "cell_type": "markdown",
      "source": [
        "# Pre_Processing The Corpus"
      ],
      "metadata": {
        "id": "0sbGCywLQnMT"
      }
    },
    {
      "cell_type": "code",
      "source": [
        "lemmer = nltk.stem.WordNetLemmatizer()  # lemmer is an object of WordNetLemmatizer class used for lemmatization\n",
        "def LemTokens(tokens):\n",
        "  return [lemmer.lemmatize(token) for token in tokens]\n",
        "\n",
        "remove_punc_dict = dict((ord(punct),None) for punct in string.punctuation )\n",
        "def LemNormalize(text) :\n",
        "  return LemTokens(nltk.word_tokenize(text.lower().translate(remove_punc_dict)))"
      ],
      "metadata": {
        "id": "xFm3OWV6OoHK"
      },
      "execution_count": 5,
      "outputs": []
    },
    {
      "cell_type": "code",
      "source": [
        "greet_inputs = ('hello','hi','whasup','how are you?')  #this is a tuple -> very helpful\n",
        "greet_responses = ('hi','hey','Hey There!','There there!!') # same\n",
        "def greet(sentence):\n",
        "  for word in sentence.split():\n",
        "    if word.lower() in greet_inputs:\n",
        "      return random.choice(greet_responses)"
      ],
      "metadata": {
        "id": "x73HMJfxRkb-"
      },
      "execution_count": 6,
      "outputs": []
    },
    {
      "cell_type": "code",
      "source": [
        "from sklearn.feature_extraction.text import TfidfVectorizer\n",
        "from sklearn.metrics.pairwise import cosine_similarity\n",
        "TfidfVec = TfidfVectorizer(tokenizer = LemNormalize, stop_words = 'english')\n",
        "tfidf = TfidfVec.fit_transform(sentence_tokens)\n",
        "vals = cosine_similarity(tfidf[-1],tfidf)\n",
        "print(vals[0][-2])\n",
        "flat = vals.flatten()\n",
        "flat.sort()\n",
        "req_tfidf = flat[-1]\n",
        "print(req_tfidf)  #similarity score\n",
        "# print(flat.shape)\n",
        "# print(vals.shape)\n",
        "# print(tfidf[2])"
      ],
      "metadata": {
        "id": "hFeqy-YsUWL6",
        "colab": {
          "base_uri": "https://localhost:8080/"
        },
        "outputId": "be0de962-6ebc-4fc1-81bf-17c4ab4a70b3"
      },
      "execution_count": 7,
      "outputs": [
        {
          "output_type": "stream",
          "name": "stderr",
          "text": [
            "/usr/local/lib/python3.10/dist-packages/sklearn/feature_extraction/text.py:525: UserWarning: The parameter 'token_pattern' will not be used since 'tokenizer' is not None'\n",
            "  warnings.warn(\n"
          ]
        },
        {
          "output_type": "stream",
          "name": "stdout",
          "text": [
            "0.01711195230686509\n",
            "1.0\n"
          ]
        },
        {
          "output_type": "stream",
          "name": "stderr",
          "text": [
            "/usr/local/lib/python3.10/dist-packages/sklearn/feature_extraction/text.py:408: UserWarning: Your stop_words may be inconsistent with your preprocessing. Tokenizing the stop words generated tokens ['ha', 'le', 'u', 'wa'] not in stop_words.\n",
            "  warnings.warn(\n"
          ]
        }
      ]
    },
    {
      "cell_type": "code",
      "source": [
        "def response(user_response):\n",
        "  robo1_response = ''\n",
        "  TfidfVec = TfidfVectorizer(tokenizer = LemNormalize, stop_words = 'english')\n",
        "  tfidf = TfidfVec.fit_transform(sentence_tokens)\n",
        "  vals = cosine_similarity(tfidf[-1],tfidf)\n",
        "  idx = vals.argsort()[0][-2]\n",
        "  flat = vals.flatten()\n",
        "  flat.sort()\n",
        "  req_tfidf = flat[-2]\n",
        "  if (req_tfidf == 0):\n",
        "    robo1_response = robo1_response + \"I am sorry! I don't understand you\"\n",
        "    return robo1_response\n",
        "  else:\n",
        "    robo1_response = robo1_response + sentence_tokens[idx]\n",
        "    return robo1_response"
      ],
      "metadata": {
        "id": "36zedTuJYp1T"
      },
      "execution_count": 8,
      "outputs": []
    },
    {
      "cell_type": "code",
      "source": [],
      "metadata": {
        "id": "3MdOUblPeALj"
      },
      "execution_count": null,
      "outputs": []
    },
    {
      "cell_type": "code",
      "source": [
        "flag = True\n",
        "print('Hello! I am the Retrieval Learning Bot. Start typing your text after greeting to talk to me. For ending convo type bye!')\n",
        "while(flag == True):\n",
        "  user_response = input()\n",
        "  user_response = user_response.lower()\n",
        "  if(user_response != 'bye' ):\n",
        "    if(user_response == 'thanks' or user_response == 'thank you'):\n",
        "      flag = False\n",
        "      print('Bot: You are Welcome..')\n",
        "    else :\n",
        "      if(greet(user_response)!=None):\n",
        "        print('Bot:' + greet(user_response))\n",
        "      else:\n",
        "        sentence_tokens.append(user_response)\n",
        "        word_tokens = word_tokens + nltk.word_tokenize(user_response)\n",
        "        final_words = list(set(word_tokens))\n",
        "        print('Bot:',end='')\n",
        "        print(response(user_response))\n",
        "        sentence_tokens.remove(user_response)\n",
        "  else:\n",
        "    flag = False\n",
        "    print('Bot: Goodbye! Take Care')"
      ],
      "metadata": {
        "colab": {
          "base_uri": "https://localhost:8080/"
        },
        "id": "0eT3M6xbaaZ4",
        "outputId": "e97f0863-1461-4702-9262-6b0ff9f32375"
      },
      "execution_count": 11,
      "outputs": [
        {
          "output_type": "stream",
          "name": "stdout",
          "text": [
            "Hello! I am the Retrieval Learning Bot. Start typing your text after greeting to talk to me. For ending convo type bye!\n",
            "hi\n",
            "Bot:hey\n",
            "tell me about early life of richard feynman\n",
            "Bot:by ralph leighton and the biography genius: the life and science of richard feynman by james gleick.\n",
            "education\n",
            "Bot:[19]\n",
            "\n",
            "education\n",
            "feynman attended far rockaway high school, which was also attended by fellow nobel laureates burton richter and baruch samuel blumberg.\n",
            "tell me about Manhattan project\n",
            "Bot:[78]\n",
            "\n",
            "cornell\n",
            "feynman nominally held an appointment at the university of wisconsin–madison as an assistant professor of physics, but was on unpaid leave during his involvement in the manhattan project.\n",
            "bye\n",
            "Bot: Goodbye! Take Care\n"
          ]
        }
      ]
    }
  ]
}